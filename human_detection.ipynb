{
  "nbformat": 4,
  "nbformat_minor": 0,
  "metadata": {
    "colab": {
      "provenance": []
    },
    "kernelspec": {
      "name": "python3",
      "display_name": "Python 3"
    },
    "language_info": {
      "name": "python"
    }
  },
  "cells": [
    {
      "cell_type": "code",
      "execution_count": null,
      "metadata": {
        "id": "Cgy1FMLWw7XJ"
      },
      "outputs": [],
      "source": [
        "import cv2\n",
        "from skimage import morphology\n",
        "\n",
        "# Load image and convert to gray\n",
        "img = cv2.imread('test.jpg')\n",
        "gray = cv2.cvtColor(img, cv2.COLOR_BGR2GRAY)\n",
        "\n",
        "# Otsu threshold\n",
        "t, thresh = cv2.threshold(gray, 0, 255, cv2.THRESH_BINARY + cv2.THRESH_OTSU)\n",
        "\n",
        "# Apply thinning\n",
        "thin = morphology.thin(thresh)\n",
        "show_img(thin, 'Thinned')\n",
        "\n",
        "# Hough transform: experiment with params here\n",
        "from skimage.transform import probabilistic_hough_line\n",
        "\n",
        "lines = probabilistic_hough_line(thin, threshold=100, line_length=10, line_gap=20)\n",
        "print('Total lines={0}'.format(len(lines)))\n",
        "\n",
        "# Plot lines over the input image\n",
        "for p1, p2 in lines:\n",
        "    cv2.line(img, p1, p2, (255, 0, 0), 4)"
      ]
    }
  ]
}